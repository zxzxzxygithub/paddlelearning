{
 "cells": [
  {
   "cell_type": "code",
   "execution_count": 1,
   "metadata": {
    "collapsed": true
   },
   "outputs": [],
   "source": [
    "# Include libraries.\n",
    "import paddle\n",
    "import paddle.fluid as fluid\n",
    "import numpy\n",
    "import math\n",
    "import sys\n",
    "from __future__ import print_function\n",
    "\n",
    "# import matplotlib.pyplot as plt\n",
    "# import matplotlib\n",
    "# matplotlib.use('Agg')\n"
   ]
  },
  {
   "cell_type": "code",
   "execution_count": 2,
   "metadata": {
    "collapsed": true
   },
   "outputs": [],
   "source": [
    "SAVE_DIRNAME = 'models_'"
   ]
  },
  {
   "cell_type": "code",
   "execution_count": 3,
   "metadata": {
    "collapsed": true
   },
   "outputs": [],
   "source": [
    "# Plot data\n",
    "from paddle.utils.plot import Ploter\n",
    "train_prompt = \"Train cost\"\n",
    "test_prompt = \"Test cost\"\n",
    "plot_prompt = Ploter(train_prompt, test_prompt)# For training test cost\n"
   ]
  },
  {
   "cell_type": "code",
   "execution_count": 4,
   "metadata": {
    "collapsed": true
   },
   "outputs": [],
   "source": [
    "def train_test(executor, program, reader, feeder, fetch_list):\n",
    "    accumulated = 1 * [0]\n",
    "    count = 0\n",
    "    for data_test in reader():\n",
    "        outs = executor.run(program=program,\n",
    "                            feed=feeder.feed(data_test),\n",
    "                            fetch_list=fetch_list)\n",
    "        accumulated = [x_c[0] + x_c[1][0] for x_c in zip(accumulated, outs)]\n",
    "        count += 1\n",
    "    return [x_d / count for x_d in accumulated]"
   ]
  },
  {
   "cell_type": "code",
   "execution_count": 5,
   "metadata": {},
   "outputs": [
    {
     "name": "stderr",
     "output_type": "stream",
     "text": [
      "\n",
      "/usr/local/lib/python2.7/dist-packages/paddle/dataset/uci_housing.py:49: UserWarning: \n",
      "This call to matplotlib.use() has no effect because the backend has already\n",
      "been chosen; matplotlib.use() must be called *before* pylab, matplotlib.pyplot,\n",
      "or matplotlib.backends is imported for the first time.\n",
      "\n",
      "The backend was *originally* set to 'module://ipykernel.pylab.backend_inline' by the following code:\n",
      "  File \"/usr/lib/python2.7/runpy.py\", line 174, in _run_module_as_main\n",
      "    \"__main__\", fname, loader, pkg_name)\n",
      "  File \"/usr/lib/python2.7/runpy.py\", line 72, in _run_code\n",
      "    exec code in run_globals\n",
      "  File \"/usr/local/lib/python2.7/dist-packages/ipykernel_launcher.py\", line 16, in <module>\n",
      "    app.launch_new_instance()\n",
      "  File \"/usr/local/lib/python2.7/dist-packages/traitlets/config/application.py\", line 658, in launch_instance\n",
      "    app.start()\n",
      "  File \"/usr/local/lib/python2.7/dist-packages/ipykernel/kernelapp.py\", line 499, in start\n",
      "    self.io_loop.start()\n",
      "  File \"/usr/local/lib/python2.7/dist-packages/tornado/ioloop.py\", line 1017, in start\n",
      "    self._run_callback(self._callbacks.popleft())\n",
      "  File \"/usr/local/lib/python2.7/dist-packages/tornado/ioloop.py\", line 758, in _run_callback\n",
      "    ret = callback()\n",
      "  File \"/usr/local/lib/python2.7/dist-packages/tornado/stack_context.py\", line 300, in null_wrapper\n",
      "    return fn(*args, **kwargs)\n",
      "  File \"/usr/local/lib/python2.7/dist-packages/zmq/eventloop/zmqstream.py\", line 536, in <lambda>\n",
      "    self.io_loop.add_callback(lambda : self._handle_events(self.socket, 0))\n",
      "  File \"/usr/local/lib/python2.7/dist-packages/zmq/eventloop/zmqstream.py\", line 450, in _handle_events\n",
      "    self._handle_recv()\n",
      "  File \"/usr/local/lib/python2.7/dist-packages/zmq/eventloop/zmqstream.py\", line 480, in _handle_recv\n",
      "    self._run_callback(callback, msg)\n",
      "  File \"/usr/local/lib/python2.7/dist-packages/zmq/eventloop/zmqstream.py\", line 432, in _run_callback\n",
      "    callback(*args, **kwargs)\n",
      "  File \"/usr/local/lib/python2.7/dist-packages/tornado/stack_context.py\", line 300, in null_wrapper\n",
      "    return fn(*args, **kwargs)\n",
      "  File \"/usr/local/lib/python2.7/dist-packages/ipykernel/kernelbase.py\", line 283, in dispatcher\n",
      "    return self.dispatch_shell(stream, msg)\n",
      "  File \"/usr/local/lib/python2.7/dist-packages/ipykernel/kernelbase.py\", line 233, in dispatch_shell\n",
      "    handler(stream, idents, msg)\n",
      "  File \"/usr/local/lib/python2.7/dist-packages/ipykernel/kernelbase.py\", line 399, in execute_request\n",
      "    user_expressions, allow_stdin)\n",
      "  File \"/usr/local/lib/python2.7/dist-packages/ipykernel/ipkernel.py\", line 208, in do_execute\n",
      "    res = shell.run_cell(code, store_history=store_history, silent=silent)\n",
      "  File \"/usr/local/lib/python2.7/dist-packages/ipykernel/zmqshell.py\", line 537, in run_cell\n",
      "    return super(ZMQInteractiveShell, self).run_cell(*args, **kwargs)\n",
      "  File \"/usr/local/lib/python2.7/dist-packages/IPython/core/interactiveshell.py\", line 2724, in run_cell\n",
      "    self.events.trigger('post_run_cell')\n",
      "  File \"/usr/local/lib/python2.7/dist-packages/IPython/core/events.py\", line 74, in trigger\n",
      "    func(*args, **kwargs)\n",
      "  File \"/usr/local/lib/python2.7/dist-packages/ipykernel/pylab/backend_inline.py\", line 164, in configure_once\n",
      "    activate_matplotlib(backend)\n",
      "  File \"/usr/local/lib/python2.7/dist-packages/IPython/core/pylabtools.py\", line 315, in activate_matplotlib\n",
      "    matplotlib.pyplot.switch_backend(backend)\n",
      "  File \"/usr/local/lib/python2.7/dist-packages/matplotlib/pyplot.py\", line 231, in switch_backend\n",
      "    matplotlib.use(newbackend, warn=False, force=True)\n",
      "  File \"/usr/local/lib/python2.7/dist-packages/matplotlib/__init__.py\", line 1400, in use\n",
      "    reload(sys.modules['matplotlib.backends'])\n",
      "  File \"/usr/local/lib/python2.7/dist-packages/matplotlib/backends/__init__.py\", line 16, in <module>\n",
      "    line for line in traceback.format_stack()\n",
      "\n",
      "\n",
      "  matplotlib.use('Agg')\n"
     ]
    }
   ],
   "source": [
    "# 输入输入层和标签层\n",
    "x = fluid.layers.data(name='x', shape=[13], dtype='float32')\n",
    "\n",
    "# 定义网络\n",
    "y_predict = fluid.layers.fc(input=x, size=1, act=None)\n",
    "\n",
    "y = fluid.layers.data(name='y', shape=[1], dtype='float32')\n",
    "\n",
    "cost = fluid.layers.square_error_cost(input=y_predict, label=y)\n",
    "avg_cost = fluid.layers.mean(cost)\n",
    "\n",
    "# 定义优化器\n",
    "sgd_optimizer = fluid.optimizer.SGD(learning_rate=0.001)\n",
    "sgd_optimizer.minimize(avg_cost)\n",
    "\n",
    "\n",
    "# 定义batch\n",
    "train_reader = paddle.batch(\n",
    "    paddle.reader.shuffle(paddle.dataset.uci_housing.train(), buf_size=500),\n",
    "    batch_size=20)\n",
    "\n",
    "# 定义场所\n",
    "place = fluid.CPUPlace() # fluid.CUDAPlace(0)\n",
    "exe = fluid.Executor(place)"
   ]
  },
  {
   "cell_type": "code",
   "execution_count": 6,
   "metadata": {},
   "outputs": [
    {
     "name": "stderr",
     "output_type": "stream",
     "text": [
      "\n",
      "\n"
     ]
    }
   ],
   "source": [
    "# 输入输入层和标签层\n",
    "x = fluid.layers.data(name='x', shape=[13], dtype='float32')\n",
    "\n",
    "# 定义网络\n",
    "y_predict = fluid.layers.fc(input=x, size=1, act=None)\n",
    "\n",
    "y = fluid.layers.data(name='y', shape=[1], dtype='float32')\n",
    "\n",
    "cost = fluid.layers.square_error_cost(input=y_predict, label=y)\n",
    "avg_cost = fluid.layers.mean(cost)\n",
    "\n",
    "# 定义优化器\n",
    "sgd_optimizer = fluid.optimizer.SGD(learning_rate=0.001)\n",
    "sgd_optimizer.minimize(avg_cost)\n",
    "\n",
    "test_program = fluid.default_main_program().clone(for_test=True)\n",
    "\n",
    "# 定义batch\n",
    "train_reader = paddle.batch(\n",
    "    paddle.reader.shuffle(paddle.dataset.uci_housing.train(), buf_size=500),\n",
    "    batch_size=20)\n",
    "\n",
    "test_reader = paddle.batch(\n",
    "    paddle.reader.shuffle(paddle.dataset.uci_housing.test(), buf_size=500),\n",
    "    batch_size=2)\n",
    "\n",
    "\n",
    "# 定义场所\n",
    "place = fluid.CPUPlace() # fluid.CUDAPlace(0)\n",
    "exe = fluid.Executor(place)\n"
   ]
  },
  {
   "cell_type": "code",
   "execution_count": 7,
   "metadata": {},
   "outputs": [
    {
     "data": {
      "image/png": "[encoded data removed]",
      "text/plain": [
       "<Figure size 432x288 with 1 Axes>"
      ]
     },
     "metadata": {},
     "output_type": "display_data"
    },
    {
     "data": {
      "text/plain": [
       "<Figure size 432x288 with 0 Axes>"
      ]
     },
     "metadata": {},
     "output_type": "display_data"
    }
   ],
   "source": [
    "\n",
    "\n",
    "\n",
    "def train_loop():\n",
    "    feeder = fluid.DataFeeder(place=place, feed_list=[x, y])\n",
    "    exe.run(fluid.default_startup_program())\n",
    "    step = 0\n",
    "    exe_test = fluid.Executor(place)\n",
    "\n",
    "    \n",
    "    PASS_NUM = 10\n",
    "    for pass_id in range(PASS_NUM):\n",
    "        total_loss_pass = 0\n",
    "        for data in train_reader():\n",
    "            avg_loss_value, = exe.run(\n",
    "                fluid.default_main_program(), \n",
    "                feed=feeder.feed(data), \n",
    "                fetch_list=[avg_cost])\n",
    "            total_loss_pass += avg_loss_value\n",
    "            ####### 画图开始\n",
    "            if step % 10 == 0:  # record a train cost every 10 batches\n",
    "                plot_prompt.append(train_prompt, step, avg_loss_value[0])\n",
    "                plot_prompt.plot()\n",
    "            if step % 100 == 0:  # record a test cost every 100 batches\n",
    "                test_metics = train_test(executor=exe_test,\n",
    "                                         program=test_program,\n",
    "                                         reader=test_reader,\n",
    "                                         fetch_list=[avg_cost.name],\n",
    "                                         feeder=feeder)\n",
    "                plot_prompt.append(test_prompt, step, test_metics[0])\n",
    "                plot_prompt.plot()\n",
    "                # If the accuracy is good enough, we can stop the training.\n",
    "#                 if test_metics[0] < 10.0:\n",
    "#                     return \n",
    "            step += 1\n",
    "            ######## 画图结束\n",
    "            if math.isnan(float(avg_loss_value[0])):\n",
    "                sys.exit(\"got NaN loss, training failed.\")    \n",
    "\n",
    "\n",
    "            if avg_loss_value <1.0:\n",
    "                if SAVE_DIRNAME is not None:\n",
    "                    fluid.io.save_inference_model(\n",
    "                        SAVE_DIRNAME, ['x'], [y_predict], exe)\n",
    "#                 return\n",
    "#         print(\"Pass %d, total avg cost = %f\" % (pass_id, total_loss_pass))\n",
    "\n",
    "train_loop()"
   ]
  },
  {
   "cell_type": "code",
   "execution_count": 8,
   "metadata": {},
   "outputs": [
    {
     "name": "stdout",
     "output_type": "stream",
     "text": [
      "x\n",
      "infer results:  [[13.028505 ]\n",
      " [13.27338  ]\n",
      " [12.973402 ]\n",
      " [13.882124 ]\n",
      " [13.2918   ]\n",
      " [13.662638 ]\n",
      " [13.631207 ]\n",
      " [13.248424 ]\n",
      " [12.019205 ]\n",
      " [13.340189 ]\n",
      " [11.608441 ]\n",
      " [12.432707 ]\n",
      " [12.782322 ]\n",
      " [12.62546  ]\n",
      " [12.8106575]\n",
      " [13.021822 ]\n",
      " [13.677567 ]\n",
      " [13.598593 ]\n",
      " [14.043578 ]\n",
      " [13.059525 ]]\n",
      "ground truth:  [[ 8.5]\n",
      " [ 5. ]\n",
      " [11.9]\n",
      " [27.9]\n",
      " [17.2]\n",
      " [27.5]\n",
      " [15. ]\n",
      " [17.2]\n",
      " [17.9]\n",
      " [16.3]\n",
      " [ 7. ]\n",
      " [ 7.2]\n",
      " [ 7.5]\n",
      " [10.4]\n",
      " [ 8.8]\n",
      " [ 8.4]\n",
      " [16.7]\n",
      " [14.2]\n",
      " [20.8]\n",
      " [13.4]]\n"
     ]
    },
    {
     "name": "stderr",
     "output_type": "stream",
     "text": [
      "\n"
     ]
    }
   ],
   "source": [
    "\n",
    "place = fluid.CPUPlace()\n",
    "exe = fluid.Executor(place)\n",
    "\n",
    "inference_scope = fluid.core.Scope()\n",
    "with fluid.scope_guard(inference_scope):\n",
    "    [inference_program, feed_target_names, fetch_targets] = (\n",
    "        fluid.io.load_inference_model(SAVE_DIRNAME, exe))\n",
    "    test_reader = paddle.batch(paddle.dataset.uci_housing.test(), batch_size=20)\n",
    "\n",
    "    test_data = test_reader().next()\n",
    "    test_feat = numpy.array(map(lambda x: x[0], test_data)).astype(\"float32\")\n",
    "    test_label = numpy.array(map(lambda x: x[1], test_data)).astype(\"float32\")\n",
    "    print(feed_target_names[0])\n",
    "    results = exe.run(inference_program,\n",
    "                      feed={feed_target_names[0]: numpy.array(test_feat)},\n",
    "                      fetch_list=fetch_targets)\n",
    "    print(\"infer results: \", results[0])\n",
    "    print(\"ground truth: \", test_label)"
   ]
  },
  {
   "cell_type": "code",
   "execution_count": null,
   "metadata": {
    "collapsed": true
   },
   "outputs": [],
   "source": []
  },
  {
   "cell_type": "code",
   "execution_count": null,
   "metadata": {
    "collapsed": true
   },
   "outputs": [],
   "source": []
  }
 ],
 "metadata": {
  "kernelspec": {
   "display_name": "Python 2",
   "language": "python",
   "name": "python2"
  },
  "language_info": {
   "codemirror_mode": {
    "name": "ipython",
    "version": 2
   },
   "file_extension": ".py",
   "mimetype": "text/x-python",
   "name": "python",
   "nbconvert_exporter": "python",
   "pygments_lexer": "ipython2",
   "version": "2.7.13"
  }
 },
 "nbformat": 4,
 "nbformat_minor": 2
}
