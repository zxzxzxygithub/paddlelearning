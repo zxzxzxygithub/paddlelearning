{
 "cells": [
  {
   "cell_type": "code",
   "execution_count": 1,
   "metadata": {
    "collapsed": true
   },
   "outputs": [],
   "source": [
    "# Include libraries.\n",
    "import paddle\n",
    "import paddle.fluid as fluid\n",
    "import numpy"
   ]
  },
  {
   "cell_type": "code",
   "execution_count": 2,
   "metadata": {
    "collapsed": true
   },
   "outputs": [],
   "source": [
    "SAVE_DIRNAME = 'models_'"
   ]
  },
  {
   "cell_type": "code",
   "execution_count": 3,
   "metadata": {},
   "outputs": [
    {
     "name": "stdout",
     "output_type": "stream",
     "text": [
      "Pass 0, total avg cost = 13169.619141\n"
     ]
    }
   ],
   "source": [
    "# 输入输入层和标签层\n",
    "x = fluid.layers.data(name='x', shape=[13], dtype='float32')\n",
    "\n",
    "# 定义网络\n",
    "y_predict = fluid.layers.fc(input=x, size=1, act=None)\n",
    "\n",
    "y = fluid.layers.data(name='y', shape=[1], dtype='float32')\n",
    "\n",
    "cost = fluid.layers.square_error_cost(input=y_predict, label=y)\n",
    "avg_cost = fluid.layers.mean(cost)\n",
    "\n",
    "# 定义优化器\n",
    "sgd_optimizer = fluid.optimizer.SGD(learning_rate=0.001)\n",
    "sgd_optimizer.minimize(avg_cost)\n",
    "\n",
    "\n",
    "# 定义batch\n",
    "train_reader = paddle.batch(\n",
    "    paddle.reader.shuffle(paddle.dataset.uci_housing.train(), buf_size=500),\n",
    "    batch_size=20)\n",
    "\n",
    "# 定义场所，没有gpu的改成CPUPlace()\n",
    "place = fluid.CUDAPlace(0)\n",
    "exe = fluid.Executor(place)\n",
    "\n",
    "# 定义双层循环\n",
    "def train_loop():\n",
    "    feeder = fluid.DataFeeder(place=place, feed_list=[x, y])\n",
        "# 参数初始化\n",
    "    exe.run(fluid.default_startup_program())\n",
    "\n",
       "# PASS_NUM 运行多少轮数据\n",
      "# 双层for循环\n",
    "    PASS_NUM = 1\n",
    "    for pass_id in range(PASS_NUM):\n",
    "        total_loss_pass = 0\n",
     "# data是一个list，每一个元素都是一个Tupple，房价预测的例子，前部分是影响因子，比如房子的楼层，平方等，后一个数据是价格\n",
    "        for data in train_reader():\n",
    "            avg_loss_value, = exe.run(\n",
               "# 运行网络，正向传播，反向传播，梯度下降\n",
    "                fluid.default_main_program(), \n",
    "                feed=feeder.feed(data), \n",
    "                fetch_list=[avg_cost])\n",
    "            total_loss_pass += avg_loss_value\n",
    "            if avg_loss_value <1.0:\n",
    "                if SAVE_DIRNAME is not None:\n",
                         "# 存到磁盘\n",
    "                    fluid.io.save_inference_model(\n",
    "                        SAVE_DIRNAME, ['x'], [y_predict], exe)\n",
    "                return\n",
    "        print(\"Pass %d, total avg cost = %f\" % (pass_id, total_loss_pass))\n",
     "# 存到磁盘\n",
    "                    fluid.io.save_inference_model(\n",
    "                        SAVE_DIRNAME, ['x'], [y_predict], exe)\n",
    "\n",
    "train_loop()"
   ]
  },
  {
   "cell_type": "code",
   "execution_count": 4,
   "metadata": {},
   "outputs": [
    {
     "name": "stdout",
     "output_type": "stream",
     "text": [
      "x\n",
      "('infer results: ', array([[13.028505 ],\n",
      "       [13.27338  ],\n",
      "       [12.973402 ],\n",
      "       [13.882124 ],\n",
      "       [13.2918   ],\n",
      "       [13.662638 ],\n",
      "       [13.631207 ],\n",
      "       [13.248424 ],\n",
      "       [12.019205 ],\n",
      "       [13.340189 ],\n",
      "       [11.608441 ],\n",
      "       [12.432707 ],\n",
      "       [12.782322 ],\n",
      "       [12.62546  ],\n",
      "       [12.8106575],\n",
      "       [13.021822 ],\n",
      "       [13.677567 ],\n",
      "       [13.598593 ],\n",
      "       [14.043578 ],\n",
      "       [13.059525 ]], dtype=float32))\n",
      "('ground truth: ', array([[ 8.5],\n",
      "       [ 5. ],\n",
      "       [11.9],\n",
      "       [27.9],\n",
      "       [17.2],\n",
      "       [27.5],\n",
      "       [15. ],\n",
      "       [17.2],\n",
      "       [17.9],\n",
      "       [16.3],\n",
      "       [ 7. ],\n",
      "       [ 7.2],\n",
      "       [ 7.5],\n",
      "       [10.4],\n",
      "       [ 8.8],\n",
      "       [ 8.4],\n",
      "       [16.7],\n",
      "       [14.2],\n",
      "       [20.8],\n",
      "       [13.4]], dtype=float32))\n"
     ]
    }
   ],
   "source": [
    "\n",
    "place = fluid.CPUPlace()\n",
    "exe = fluid.Executor(place)\n",
    "\n",
    "inference_scope = fluid.core.Scope()\n",
    "with fluid.scope_guard(inference_scope):\n",
     "# inference_program：预测网络（正向传播的网络），feed_target_names：输入，fetch_targets：输出\n",
    "    [inference_program, feed_target_names, fetch_targets] = (\n",
             "# 把模型从磁盘加载回来\n",
    "        fluid.io.load_inference_model(SAVE_DIRNAME, exe))\n",
    "    test_reader = paddle.batch(paddle.dataset.uci_housing.test(), batch_size=20)\n",
    "\n",
    "    test_data = test_reader().next()\n",
    "    test_feat = numpy.array(map(lambda x: x[0], test_data)).astype(\"float32\")\n",
    "    test_label = numpy.array(map(lambda x: x[1], test_data)).astype(\"float32\")\n",
    "    print(feed_target_names[0])\n",
    "    results = exe.run(inference_program,\n",
    "                      feed={feed_target_names[0]: numpy.array(test_feat)},\n",
    "                      fetch_list=fetch_targets)\n",
    "    print(\"infer results: \", results[0])\n",
    "    print(\"ground truth: \", test_label)"
   ]
  },
  {
   "cell_type": "code",
   "execution_count": null,
   "metadata": {
    "collapsed": true
   },
   "outputs": [],
   "source": [
    "def train(): \n",
    "    global UCI_TRAIN_DATA \n",
    "    load_data(paddle.dataset.common.download(URL, 'uci_housing', MD5)) \n",
    "    def reader(): \n",
    "        for d in UCI_TRAIN_DATA: \n",
    "            yield d[:-1], d[-1:] \n",
    "    return reader \n"
   ]
  }
 ],
 "metadata": {
  "kernelspec": {
   "display_name": "Python 2",
   "language": "python",
   "name": "python2"
  },
  "language_info": {
   "codemirror_mode": {
    "name": "ipython",
    "version": 2
   },
   "file_extension": ".py",
   "mimetype": "text/x-python",
   "name": "python",
   "nbconvert_exporter": "python",
   "pygments_lexer": "ipython2",
   "version": "2.7.13"
  }
 },
 "nbformat": 4,
 "nbformat_minor": 2
}
